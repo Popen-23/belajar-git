{
  "nbformat": 4,
  "nbformat_minor": 0,
  "metadata": {
    "colab": {
      "provenance": [],
      "authorship_tag": "ABX9TyNtb9R0+aV6N2qMsWmlbalu",
      "include_colab_link": true
    },
    "kernelspec": {
      "name": "python3",
      "display_name": "Python 3"
    },
    "language_info": {
      "name": "python"
    }
  },
  "cells": [
    {
      "cell_type": "markdown",
      "metadata": {
        "id": "view-in-github",
        "colab_type": "text"
      },
      "source": [
        "<a href=\"https://colab.research.google.com/github/Popen-23/belajar-git/blob/master/intro_to_google_colab.ipynb\" target=\"_parent\"><img src=\"https://colab.research.google.com/assets/colab-badge.svg\" alt=\"Open In Colab\"/></a>"
      ]
    },
    {
      "cell_type": "code",
      "execution_count": 1,
      "metadata": {
        "id": "FfagiyyG7QDy",
        "colab": {
          "base_uri": "https://localhost:8080/"
        },
        "outputId": "b5ae1bd6-41e4-4c99-c605-fa247e94364e"
      },
      "outputs": [
        {
          "output_type": "stream",
          "name": "stdout",
          "text": [
            "10\n"
          ]
        }
      ],
      "source": [
        "a = 10\n",
        "print(a)\n"
      ]
    },
    {
      "cell_type": "code",
      "source": [
        "b = 15\n",
        "b"
      ],
      "metadata": {
        "colab": {
          "base_uri": "https://localhost:8080/"
        },
        "id": "o0lNFsC49QMY",
        "outputId": "c95fca98-ff40-47dd-b220-b2d4c95c465f"
      },
      "execution_count": 10,
      "outputs": [
        {
          "output_type": "execute_result",
          "data": {
            "text/plain": [
              "15"
            ]
          },
          "metadata": {},
          "execution_count": 10
        }
      ]
    },
    {
      "cell_type": "code",
      "source": [],
      "metadata": {
        "id": "Jv3CDphGAqvK"
      },
      "execution_count": null,
      "outputs": []
    },
    {
      "cell_type": "markdown",
      "source": [
        "# Shell Commands"
      ],
      "metadata": {
        "id": "Yp5nDKEVAsDK"
      }
    },
    {
      "cell_type": "code",
      "source": [
        "!ls"
      ],
      "metadata": {
        "colab": {
          "base_uri": "https://localhost:8080/"
        },
        "id": "6rak4vz9Aw2r",
        "outputId": "77af869e-c8e8-408c-8f09-e35fea4aecbb"
      },
      "execution_count": 14,
      "outputs": [
        {
          "output_type": "stream",
          "name": "stdout",
          "text": [
            "sample_data\n"
          ]
        }
      ]
    },
    {
      "cell_type": "markdown",
      "source": [
        "Magics"
      ],
      "metadata": {
        "id": "AkVW2AkiCbgL"
      }
    },
    {
      "cell_type": "code",
      "source": [
        "import numpy as np\n",
        "%timeit np.linalg.eigvals(np.random.rand(100, 100))"
      ],
      "metadata": {
        "colab": {
          "base_uri": "https://localhost:8080/"
        },
        "id": "GNLHtrncD1gd",
        "outputId": "5c983574-6e3d-4e7e-848d-a8996df73d2d"
      },
      "execution_count": 17,
      "outputs": [
        {
          "output_type": "stream",
          "name": "stdout",
          "text": [
            "9.04 ms ± 66.8 µs per loop (mean ± std. dev. of 7 runs, 100 loops each)\n"
          ]
        }
      ]
    },
    {
      "cell_type": "code",
      "source": [
        "%%html\n",
        "<marquee style='width30%; color: green;'>Hello World!</marquee>"
      ],
      "metadata": {
        "colab": {
          "base_uri": "https://localhost:8080/",
          "height": 39
        },
        "id": "bXAlJirOE731",
        "outputId": "ac3c298e-bd58-452f-b009-642413acd8ba"
      },
      "execution_count": 21,
      "outputs": [
        {
          "output_type": "display_data",
          "data": {
            "text/plain": [
              "<IPython.core.display.HTML object>"
            ],
            "text/html": [
              "<marquee style='width30%; color: green;'>Hello World!</marquee>\n"
            ]
          },
          "metadata": {}
        }
      ]
    },
    {
      "cell_type": "markdown",
      "source": [
        "Documentation"
      ],
      "metadata": {
        "id": "5qlDTMgxGKUi"
      }
    },
    {
      "cell_type": "code",
      "source": [
        "np.random?"
      ],
      "metadata": {
        "id": "WHHbbjNKGNaI"
      },
      "execution_count": 22,
      "outputs": []
    },
    {
      "cell_type": "markdown",
      "source": [
        "# Markdown"
      ],
      "metadata": {
        "id": "iZ_jfOTzIjlG"
      }
    },
    {
      "cell_type": "markdown",
      "source": [
        "**Python** *Programming*"
      ],
      "metadata": {
        "id": "ZpqAMEguIwLA"
      }
    },
    {
      "cell_type": "markdown",
      "source": [
        "[Google Website](https://google.com)"
      ],
      "metadata": {
        "id": "KOYEkVg5JB-o"
      }
    },
    {
      "cell_type": "markdown",
      "source": [
        "#Numpy"
      ],
      "metadata": {
        "id": "v1mIbaQcJnm5"
      }
    },
    {
      "cell_type": "code",
      "source": [
        "import numpy as np\n"
      ],
      "metadata": {
        "id": "n06QC9npL-Ku"
      },
      "execution_count": null,
      "outputs": []
    },
    {
      "cell_type": "markdown",
      "source": [
        "Array dengan rank 1 dan panjang 3."
      ],
      "metadata": {
        "id": "wBKmSlmQM8o1"
      }
    },
    {
      "cell_type": "code",
      "source": [
        "[1, 2, 3]"
      ],
      "metadata": {
        "colab": {
          "base_uri": "https://localhost:8080/"
        },
        "id": "dmQmqCyXNGWW",
        "outputId": "f917ec0c-0b80-4396-9dca-55e0b79ba432"
      },
      "execution_count": 23,
      "outputs": [
        {
          "output_type": "execute_result",
          "data": {
            "text/plain": [
              "[1, 2, 3]"
            ]
          },
          "metadata": {},
          "execution_count": 23
        }
      ]
    },
    {
      "cell_type": "markdown",
      "source": [
        "Array dengan rank 2 dan panjang 3."
      ],
      "metadata": {
        "id": "qDFNTua4NhGA"
      }
    },
    {
      "cell_type": "code",
      "source": [
        "([1, 2, 3], [4, 5, 6])"
      ],
      "metadata": {
        "colab": {
          "base_uri": "https://localhost:8080/"
        },
        "id": "15Jqtbm0NLpe",
        "outputId": "c87fddc1-9458-4141-f0b5-95d9c11068d3"
      },
      "execution_count": 24,
      "outputs": [
        {
          "output_type": "execute_result",
          "data": {
            "text/plain": [
              "([1, 2, 3], [4, 5, 6])"
            ]
          },
          "metadata": {},
          "execution_count": 24
        }
      ]
    },
    {
      "cell_type": "code",
      "source": [
        "a = np.array([1, 2, 3])\n",
        "b = np.array([(1, 2, 3), (4, 5, 6)])\n",
        "\n",
        "print(a)\n",
        "print(b)"
      ],
      "metadata": {
        "colab": {
          "base_uri": "https://localhost:8080/"
        },
        "id": "Q9XZiuCmOO9j",
        "outputId": "704b7f27-5f93-4644-b3a8-3ec947f910a2"
      },
      "execution_count": 26,
      "outputs": [
        {
          "output_type": "stream",
          "name": "stdout",
          "text": [
            "[1 2 3]\n",
            "[[1 2 3]\n",
            " [4 5 6]]\n"
          ]
        }
      ]
    },
    {
      "cell_type": "markdown",
      "source": [
        "**ndarray**: nama class untuk sebuah numpy array"
      ],
      "metadata": {
        "id": "OwUtnmGPPVCf"
      }
    },
    {
      "cell_type": "markdown",
      "source": [
        "#Properties yg terdapat di dalam ndarray\n",
        "* ndarray.ndim: mengembalikan dimensi dari numpy array\n",
        "* ndarray.shape: mereturn baris & colum dari sebuah numpy array\n",
        "* ndarray.size : mengetahui jumlah element di dalam numpy array\n",
        "* nd array.dtype: mencari tipe data di dalam numpy array\n",
        "* ndarray.itemsize: mengetahui ukuran element (bytes) yg ad di numpy array\n",
        "*nd array:data: buffer untuk menyimpan element-element di dalam numpy array\n"
      ],
      "metadata": {
        "id": "1mLHFvIZQIn-"
      }
    },
    {
      "cell_type": "code",
      "source": [
        "a = np.array([1, 2, 3])\n",
        "b = np.array([(1, 2, 3), (4, 5, 6)])"
      ],
      "metadata": {
        "id": "r0N30vjLT9t2"
      },
      "execution_count": null,
      "outputs": []
    },
    {
      "cell_type": "code",
      "source": [
        "print(b.ndim)\n",
        "print(b.shape)\n",
        "print(b.size)\n",
        "print(b.dtype)\n",
        "print(b.itemsize)"
      ],
      "metadata": {
        "colab": {
          "base_uri": "https://localhost:8080/"
        },
        "id": "nSihRgMhU1EN",
        "outputId": "d6aabfe6-ba5c-4ce0-eb89-c7c66ac934cb"
      },
      "execution_count": 29,
      "outputs": [
        {
          "output_type": "stream",
          "name": "stdout",
          "text": [
            "2\n",
            "(2, 3)\n",
            "6\n",
            "int64\n",
            "8\n"
          ]
        }
      ]
    },
    {
      "cell_type": "markdown",
      "source": [
        "Create Numpy array"
      ],
      "metadata": {
        "id": "wRbWptmEW-lV"
      }
    },
    {
      "cell_type": "markdown",
      "source": [
        "* np.zeros: Untuk membuat numpy array yg yg semua isinya adalah nol\n",
        "* np.ones: Untuk membuat numpy array yang semua isinya adalah 1\n",
        "* np.arrange: untuk berikan scope dan panjang dari step\n",
        "* np.linspace: untuk berikan scope dan jumlah element yang kita inginkan\n",
        "*np.random.random: memberikan angka acak\n",
        "\n"
      ],
      "metadata": {
        "id": "m7d_Qey-XE9O"
      }
    },
    {
      "cell_type": "code",
      "source": [
        "np.zeros((3, 3)) # kurung pertama untuk pemanggilan method yg ke2 utk parameternya"
      ],
      "metadata": {
        "colab": {
          "base_uri": "https://localhost:8080/"
        },
        "id": "ZNgdOqKvZL3o",
        "outputId": "4f4c1410-f485-4576-a7ce-8831da19d6c9"
      },
      "execution_count": 31,
      "outputs": [
        {
          "output_type": "execute_result",
          "data": {
            "text/plain": [
              "array([[0., 0., 0.],\n",
              "       [0., 0., 0.],\n",
              "       [0., 0., 0.]])"
            ]
          },
          "metadata": {},
          "execution_count": 31
        }
      ]
    },
    {
      "cell_type": "code",
      "source": [
        "np.ones((3, 3)) # artinya 3row dan 3 colum sama seperti d atas"
      ],
      "metadata": {
        "colab": {
          "base_uri": "https://localhost:8080/"
        },
        "id": "t761qLlUaojx",
        "outputId": "8aec603c-9c13-4bb4-a0a6-bb0186ea1319"
      },
      "execution_count": 32,
      "outputs": [
        {
          "output_type": "execute_result",
          "data": {
            "text/plain": [
              "array([[1., 1., 1.],\n",
              "       [1., 1., 1.],\n",
              "       [1., 1., 1.]])"
            ]
          },
          "metadata": {},
          "execution_count": 32
        }
      ]
    },
    {
      "cell_type": "code",
      "source": [
        "np.arange(1, 2, 0.2) # ([start],stop,[step])artinya angka 1 - 2 bakal di generate berdasarkan selisih angka 0,2"
      ],
      "metadata": {
        "colab": {
          "base_uri": "https://localhost:8080/"
        },
        "id": "yWZbSYrPbQYN",
        "outputId": "1142d5f9-64cc-4ea0-e1f6-ce97e7d400c1"
      },
      "execution_count": 36,
      "outputs": [
        {
          "output_type": "execute_result",
          "data": {
            "text/plain": [
              "array([1. , 1.2, 1.4, 1.6, 1.8])"
            ]
          },
          "metadata": {},
          "execution_count": 36
        }
      ]
    },
    {
      "cell_type": "code",
      "source": [
        "np.linspace(1, 3, 6) # ([start],stop,[jumlah element]) artinya angka 1-3 di generate brdsarkan jumlah element=> 6"
      ],
      "metadata": {
        "colab": {
          "base_uri": "https://localhost:8080/"
        },
        "id": "m26DMUwQe8VN",
        "outputId": "efc63b71-2853-433f-cbd8-3e420e445b27"
      },
      "execution_count": 38,
      "outputs": [
        {
          "output_type": "execute_result",
          "data": {
            "text/plain": [
              "array([1. , 1.4, 1.8, 2.2, 2.6, 3. ])"
            ]
          },
          "metadata": {},
          "execution_count": 38
        }
      ]
    },
    {
      "cell_type": "code",
      "source": [
        "np.random.random((2,3))"
      ],
      "metadata": {
        "colab": {
          "base_uri": "https://localhost:8080/"
        },
        "id": "14MJDtMvgXM6",
        "outputId": "5f65e9c9-8f32-4c79-ac26-d9f4971da93c"
      },
      "execution_count": 39,
      "outputs": [
        {
          "output_type": "execute_result",
          "data": {
            "text/plain": [
              "array([[0.57096413, 0.41671074, 0.24975721],\n",
              "       [0.82688723, 0.24597545, 0.12732385]])"
            ]
          },
          "metadata": {},
          "execution_count": 39
        }
      ]
    },
    {
      "cell_type": "markdown",
      "source": [
        "# Shape and Operation"
      ],
      "metadata": {
        "id": "QMAy9kRNg6vf"
      }
    },
    {
      "cell_type": "markdown",
      "source": [
        "* reshape: Mengubah dimensi/shape dari sebuah numpy array.\n",
        "* vstack: untuk merge numpy array secara vertical.\n",
        "* hstack: untuk merge numpy array secara horizontal.\n",
        "* vsplit: untuk split numpy array secara vertical.\n",
        "* hsplit: untuk split numpy array  secara horizontal."
      ],
      "metadata": {
        "id": "D_gb9LxUhHsH"
      }
    },
    {
      "cell_type": "code",
      "source": [
        "a = np.array([(1, 2, 3), (4, 5, 6)])\n",
        "print(a)"
      ],
      "metadata": {
        "colab": {
          "base_uri": "https://localhost:8080/"
        },
        "id": "OcsGEuwmjxnq",
        "outputId": "1c8efcd7-1361-419b-bbb6-fcb9efee8cb4"
      },
      "execution_count": 49,
      "outputs": [
        {
          "output_type": "stream",
          "name": "stdout",
          "text": [
            "[[1 2 3]\n",
            " [4 5 6]]\n"
          ]
        }
      ]
    },
    {
      "cell_type": "code",
      "source": [
        "a = a.reshape(3, -1) # dengan cara masukan angka -1 maka akan otomatis me reshape tanpa menentukan jumlah rownya\n",
        "print(a)"
      ],
      "metadata": {
        "colab": {
          "base_uri": "https://localhost:8080/"
        },
        "id": "sTqjjwfekD9o",
        "outputId": "2e5b611b-ceed-416a-cc16-8f6203f091b3"
      },
      "execution_count": 41,
      "outputs": [
        {
          "output_type": "stream",
          "name": "stdout",
          "text": [
            "[[1 2]\n",
            " [3 4]\n",
            " [5 6]]\n"
          ]
        }
      ]
    },
    {
      "cell_type": "code",
      "source": [
        "b = np.array([(7, 8), (9, 10)])\n",
        "print(b)"
      ],
      "metadata": {
        "colab": {
          "base_uri": "https://localhost:8080/"
        },
        "id": "hGNYlTajmTkt",
        "outputId": "60587421-22fc-48d0-bc84-bda22839afd8"
      },
      "execution_count": 43,
      "outputs": [
        {
          "output_type": "stream",
          "name": "stdout",
          "text": [
            "[[ 7  8]\n",
            " [ 9 10]]\n"
          ]
        }
      ]
    },
    {
      "cell_type": "code",
      "source": [
        "np.vstack((a, b)) # menggabungkan variable a & b secara vertical"
      ],
      "metadata": {
        "colab": {
          "base_uri": "https://localhost:8080/"
        },
        "id": "meN1YDsxmtzZ",
        "outputId": "0b83a943-e7b9-4728-d704-b02e82d35db9"
      },
      "execution_count": 44,
      "outputs": [
        {
          "output_type": "execute_result",
          "data": {
            "text/plain": [
              "array([[ 1,  2],\n",
              "       [ 3,  4],\n",
              "       [ 5,  6],\n",
              "       [ 7,  8],\n",
              "       [ 9, 10]])"
            ]
          },
          "metadata": {},
          "execution_count": 44
        }
      ]
    },
    {
      "cell_type": "code",
      "source": [
        "c = np.array([(11, 12, 13), (14, 15, 16)])\n",
        "c"
      ],
      "metadata": {
        "colab": {
          "base_uri": "https://localhost:8080/"
        },
        "id": "v9OEU5B3m1VI",
        "outputId": "1684182a-e63f-4a79-e6f0-d6ba7adac2c7"
      },
      "execution_count": 45,
      "outputs": [
        {
          "output_type": "execute_result",
          "data": {
            "text/plain": [
              "array([[11, 12, 13],\n",
              "       [14, 15, 16]])"
            ]
          },
          "metadata": {},
          "execution_count": 45
        }
      ]
    },
    {
      "cell_type": "code",
      "source": [
        "d = np.hstack((a, c)) # menggabungkan variable a & c secara horizontal\n",
        "d"
      ],
      "metadata": {
        "colab": {
          "base_uri": "https://localhost:8080/"
        },
        "id": "MtUlj-11orOw",
        "outputId": "af27b595-46ca-4a7d-cb18-288151a73944"
      },
      "execution_count": 50,
      "outputs": [
        {
          "output_type": "execute_result",
          "data": {
            "text/plain": [
              "array([[ 1,  2,  3, 11, 12, 13],\n",
              "       [ 4,  5,  6, 14, 15, 16]])"
            ]
          },
          "metadata": {},
          "execution_count": 50
        }
      ]
    },
    {
      "cell_type": "code",
      "source": [
        "np.vsplit(d, 2)"
      ],
      "metadata": {
        "colab": {
          "base_uri": "https://localhost:8080/"
        },
        "id": "YGG9AoVipirI",
        "outputId": "2c1ecc11-25a4-40b2-ff9b-dd95abdbfe18"
      },
      "execution_count": 54,
      "outputs": [
        {
          "output_type": "execute_result",
          "data": {
            "text/plain": [
              "[array([[ 1,  2,  3, 11, 12, 13]]), array([[ 4,  5,  6, 14, 15, 16]])]"
            ]
          },
          "metadata": {},
          "execution_count": 54
        }
      ]
    },
    {
      "cell_type": "code",
      "source": [
        "np.hsplit(d, 3)"
      ],
      "metadata": {
        "colab": {
          "base_uri": "https://localhost:8080/"
        },
        "id": "B9RzZ44lq7U-",
        "outputId": "97468feb-f8a4-4be6-e249-399a76572b12"
      },
      "execution_count": 52,
      "outputs": [
        {
          "output_type": "execute_result",
          "data": {
            "text/plain": [
              "[array([[1, 2],\n",
              "        [4, 5]]), array([[ 3, 11],\n",
              "        [ 6, 14]]), array([[12, 13],\n",
              "        [15, 16]])]"
            ]
          },
          "metadata": {},
          "execution_count": 52
        }
      ]
    },
    {
      "cell_type": "code",
      "source": [],
      "metadata": {
        "id": "O8roVt9ErL7f"
      },
      "execution_count": null,
      "outputs": []
    }
  ]
}